{
 "cells": [
  {
   "cell_type": "markdown",
   "metadata": {},
   "source": [
    "# Logic Gates\n",
    "\n",
    "\n",
    "## The AND gate\n",
    "\n",
    "And gates only output a 1 when both inputs are 1. Notice how when expressing the AND in boolean logic, we use the multiplication symbol.\n",
    "\n",
    "![test image](andtruth.png)"
   ]
  },
  {
   "cell_type": "markdown",
   "metadata": {},
   "source": [
    "In the below demo, press the play button (triangle in the upper left), and then click the switches on the left to change the input. Does output match the above truth table?\n",
    "\n",
    "(You may have to run the cell to get the demo to pop up)"
   ]
  },
  {
   "cell_type": "code",
   "execution_count": 1,
   "metadata": {
    "scrolled": false,
    "tags": [
     "remove_input",
     "remove-input"
    ]
   },
   "outputs": [
    {
     "data": {
      "text/html": [
       "<iframe width=\"800\" height=\"600\" src=\"https://www.multisim.com/content/66SH4yqMcPMjni5xAEvFYJ/and/open/ \n",
       "\"></iframe>\n"
      ],
      "text/plain": [
       "<IPython.core.display.HTML object>"
      ]
     },
     "metadata": {},
     "output_type": "display_data"
    }
   ],
   "source": [
    "%%html\n",
    "<iframe width=\"800\" height=\"600\" src=\"https://www.multisim.com/content/66SH4yqMcPMjni5xAEvFYJ/and/open/ \n",
    "\"></iframe>"
   ]
  },
  {
   "cell_type": "markdown",
   "metadata": {},
   "source": [
    "## The OR gate\n",
    "\n",
    "OR gates output a 1 when either input is a 1. Notice how when expressing the OR in boolean logic, we use the addition symbol.\n",
    "\n",
    "![or truth table](ortruth.png)\n"
   ]
  },
  {
   "cell_type": "code",
   "execution_count": 2,
   "metadata": {
    "scrolled": false,
    "tags": [
     "remove_input",
     "remove-input"
    ]
   },
   "outputs": [
    {
     "data": {
      "text/html": [
       "<iframe width=\"800\" height=\"600\" src=\"https://www.multisim.com/content/DAt3yDaBVASy28uiSiuZWR/or/open\n",
       "\"></iframe>\n"
      ],
      "text/plain": [
       "<IPython.core.display.HTML object>"
      ]
     },
     "metadata": {},
     "output_type": "display_data"
    }
   ],
   "source": [
    "%%html\n",
    "<iframe width=\"800\" height=\"600\" src=\"https://www.multisim.com/content/DAt3yDaBVASy28uiSiuZWR/or/open\n",
    "\"></iframe>"
   ]
  },
  {
   "cell_type": "markdown",
   "metadata": {},
   "source": [
    "## The XOR gate\n",
    "\n",
    "This is an exclusive or, either input A is one or input B is one, but not both. This gate is very powerful, and can be used to construct other gates.\n",
    "\n",
    "\n",
    "![xor truth table](xortruth.png)\n"
   ]
  },
  {
   "cell_type": "markdown",
   "metadata": {},
   "source": [
    "In boolean logic, the XOR gate can be represented by the expression $A \\cdot \\overline{B} + \\overline{A} \\cdot B$. In English, this means “Either A and not B or B and not A”. Notice how we just combined the lines where the output is true.\n"
   ]
  },
  {
   "cell_type": "code",
   "execution_count": 3,
   "metadata": {},
   "outputs": [
    {
     "data": {
      "text/html": [
       "<iframe width=\"800\" height=\"600\" src=\"https://www.multisim.com/content/bEqCcqS6nettGPhsHjuXHY/xor/open\n",
       "\"></iframe>\n"
      ],
      "text/plain": [
       "<IPython.core.display.HTML object>"
      ]
     },
     "metadata": {},
     "output_type": "display_data"
    }
   ],
   "source": [
    "%%html\n",
    "<iframe width=\"800\" height=\"600\" src=\"https://www.multisim.com/content/bEqCcqS6nettGPhsHjuXHY/xor/open\n",
    "\"></iframe>"
   ]
  },
  {
   "cell_type": "markdown",
   "metadata": {},
   "source": [
    "# Challenge: Half Adder\n",
    "\n",
    "Now that we know how some logic gates work, we have what we need to build a half adder. This is a logic circuit that takes two 1-bit inputs, and returns their sum as a high bit and a low bit.\n",
    "\n",
    "\n",
    "| inputA | inputB | sum |\n",
    "| :----: | :----: | :-: |\n",
    "| 0 | 0 | 00 |\n",
    "| 0 | 1 | 01 |\n",
    "| 1 | 0 | 01 |\n",
    "| 1 | 1 | 11 |\n",
    "\n",
    "Alternatively, the two bits could represent a 1-bit sum, with a 1-bit carry. This is called a half-adder; half-adders are often chained together to make a full-adder. A full-adder takes 3 inputs (A, B, and a carry) and outputs two bits (a sum, and a carry). Full-adders can then be chained together to make 8-bit adders, 32-bit adders, etc.\n",
    "\n",
    "Unfortunately Multisim embeds can't be edited, so go to this multisim link to make the half adder:\n",
    "https://www.multisim.com/content/CEzuoiY3RuqpYAzhmSWpyP/half-adder-workspace/open/\n",
    "You can click on the diamond-shaped terminals to connect them with wires. If you need to delete a wire, you can click on it and press the \"X\" button that pops up.\n",
    "\n",
    "When you finish, or if you get stuck, you can look at our solution here:\n",
    "https://www.multisim.com/content/34aTcNubsf7y7qV55STciQ/half-adder-solution/open/\n"
   ]
  },
  {
   "attachments": {},
   "cell_type": "markdown",
   "metadata": {},
   "source": [
    "# Challenge: Mux\n",
    "\n",
    "Formally called a multiplexor, a mux has 2 inputs (A and B), 1 control (S0), and 1 output (Z). The control signal (S0) decides which input to output, much like steering the correct signal. Think of it like the condition in an if statement.\n",
    "```\n",
    "if (S0 == 0){\n",
    "    Z = A;\t// when S0 is 0, it takes whatever signal is on the 0 pin\n",
    "}\n",
    "else if (S0 == 1){\n",
    "    Z = B;  // when S0 is 1, it takes whatever signal is on the 1 pin\n",
    "}\n",
    "```\n",
    "\n",
    "| inputA | inputB | control | output |\n",
    "| :----: | :----: | :-----: | :----: |\n",
    "| 0 | 0 | 0 | 0 |\n",
    "| 0 | 1 | 0 | 0 |\n",
    "| 1 | 0 | 0 | 1 |\n",
    "| 1 | 1 | 0 | 1 |\n",
    "| 0 | 0 | 1 | 0 |\n",
    "| 0 | 1 | 1 | 1 |\n",
    "| 1 | 0 | 1 | 0 |\n",
    "| 1 | 1 | 1 | 1 |\n",
    "\n",
    "\n",
    "\n",
    "Need more options? Let S0 be more bits, so now we can check if S is 00, 01, 10, and 11. This allows up to select up to 4 inputs using 2 selection bits, or up to $2^n$ inputs with $n$ selection bits. \n",
    "\n",
    "In the next challenge, try to build the mux out of logic gates. You can add logic gates through the menu on the left-hand side:\n",
    "![diagram that shows how to get logic gates](placewherelogicgatesare.png)\n",
    "\n",
    "Go to this link to make the mux: https://www.multisim.com/content/k58LyUaBqN43XJVSKwMzdC/mp-workspace/open/\n",
    "\n",
    "When you finish, or if you get stuck, you can look at our solution here: https://www.multisim.com/content/cDq6GobsfHpatVfhATpWx7/mp-solution/open/ "
   ]
  },
  {
   "attachments": {},
   "cell_type": "markdown",
   "metadata": {},
   "source": [
    "# ALU\n",
    "\n",
    "The Arithmetic Logic Unit is the chip that does all the calculations in our CPU. It takes in 2 operands, and an opcode that determines the operation to be performed.\n",
    "\n",
    "![image of alu](alu1.png)\n",
    "\n",
    "How we build this is we calculate every operation using our 2 operands. Then we choose which result based on the opcode in the MUX. We can’t “turn off” circuits, which is why we must execute every operation every time.\n",
    "\n",
    "<img src=\"alu2.png\" alt=\"another alu, with 6 operations\" style=\"width:600px;\"/>\n",
    "\n",
    "## ALU Demo\n",
    "\n",
    "The below demo is a 1-bit ALU that can do four operations: AND, OR, XOR, and MOV. Which opcode corresponds to each operation?\n"
   ]
  },
  {
   "cell_type": "code",
   "execution_count": 4,
   "metadata": {},
   "outputs": [
    {
     "data": {
      "text/html": [
       "<iframe width=\"800\" height=\"600\" src=\"https://www.multisim.com/content/wB7PkHtVqHhHWstPoVbH3T/1-bit-alu/open/\n",
       "\"></iframe>\n"
      ],
      "text/plain": [
       "<IPython.core.display.HTML object>"
      ]
     },
     "metadata": {},
     "output_type": "display_data"
    }
   ],
   "source": [
    "%%html\n",
    "<iframe width=\"800\" height=\"600\" src=\"https://www.multisim.com/content/wB7PkHtVqHhHWstPoVbH3T/1-bit-alu/open/\n",
    "\"></iframe>"
   ]
  }
 ],
 "metadata": {
  "kernelspec": {
   "display_name": "Python 3",
   "language": "python",
   "name": "python3"
  },
  "language_info": {
   "codemirror_mode": {
    "name": "ipython",
    "version": 3
   },
   "file_extension": ".py",
   "mimetype": "text/x-python",
   "name": "python",
   "nbconvert_exporter": "python",
   "pygments_lexer": "ipython3",
   "version": "3.8.5"
  }
 },
 "nbformat": 4,
 "nbformat_minor": 4
}
